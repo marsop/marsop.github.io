{
  "cells": [
    {
      "cell_type": "markdown",
      "metadata": {},
      "source": [
        "# Records\n",
        "\n",
        "Love them or hate them, but records are here to stay, and you should learn to use them."
      ]
    },
    {
      "cell_type": "code",
      "execution_count": 1,
      "metadata": {
        "dotnet_interactive": {
          "language": "csharp"
        },
        "vscode": {
          "languageId": "dotnet-interactive.csharp"
        }
      },
      "outputs": [],
      "source": [
        "public record Person(string FirstName, string LastName, int Age);"
      ]
    },
    {
      "cell_type": "markdown",
      "metadata": {},
      "source": [
        "## Validation\n",
        "\n",
        "What about validating that `Person.Age`? How would you go about that?"
      ]
    },
    {
      "cell_type": "code",
      "execution_count": 1,
      "metadata": {
        "dotnet_interactive": {
          "language": "csharp"
        },
        "vscode": {
          "languageId": "dotnet-interactive.csharp"
        }
      },
      "outputs": [],
      "source": [
        "// this should not really be allowed\n",
        "Person alberto = new(\"Alberto\", \"Gregorio\", -25);"
      ]
    },
    {
      "cell_type": "markdown",
      "metadata": {},
      "source": [
        "Consider the following validation style:"
      ]
    },
    {
      "cell_type": "code",
      "execution_count": 1,
      "metadata": {
        "dotnet_interactive": {
          "language": "csharp"
        },
        "vscode": {
          "languageId": "dotnet-interactive.csharp"
        }
      },
      "outputs": [],
      "source": [
        "public record ValidatedPerson(string FirstName, string LastName, int Age) {\n",
        "\n",
        "    private bool _validated = Check.ValidateFirstName(FirstName)\n",
        "        && Check.ValidateLastName(LastName)\n",
        "        && Check.ValidateAge(Age);\n",
        "\n",
        "    internal static class Check {\n",
        "        static internal bool ValidateFirstName(string firstName) {\n",
        "            return string.IsNullOrEmpty(firstName) ? throw new ArgumentNullException(nameof(firstName)): true;\n",
        "        }\n",
        "\n",
        "        static internal bool ValidateLastName(string lastName) {\n",
        "            return string.IsNullOrEmpty(lastName) ? throw new ArgumentNullException(nameof(lastName)): true;\n",
        "        }\n",
        "\n",
        "        static internal bool ValidateAge(int age) {\n",
        "            return age < 0 ? throw new ArgumentOutOfRangeException(nameof(age)): true;\n",
        "        }\n",
        "    }\n",
        "}"
      ]
    },
    {
      "cell_type": "code",
      "execution_count": 1,
      "metadata": {
        "dotnet_interactive": {
          "language": "csharp"
        },
        "vscode": {
          "languageId": "dotnet-interactive.csharp"
        }
      },
      "outputs": [
        {
          "ename": "Error",
          "evalue": "{\n\t\"name\": \"Error\",\n\t\"message\": \"System.ArgumentOutOfRangeException: Specified argument was out of the range of valid values. (Parameter 'age')\\r\\n   at Submission#9.ValidatedPerson.Check.ValidateAge(Int32 age)\\r\\n   at Submission#9.ValidatedPerson..ctor(String FirstName, String LastName, Int32 Age)\\r\\n   at Submission#10.<<Initialize>>d__0.MoveNext()\\r\\n--- End of stack trace from previous location ---\\r\\n   at Microsoft.CodeAnalysis.Scripting.ScriptExecutionState.RunSubmissionsAsync[TResult](ImmutableArray`1 precedingExecutors, Func`2 currentExecutor, StrongBox`1 exceptionHolderOpt, Func`2 catchExceptionOpt, CancellationToken cancellationToken)\"\n}",
          "output_type": "error",
          "traceback": []
        }
      ],
      "source": [
        "// this is indeed not allowed\n",
        "var albert = new ValidatedPerson(\"Albert\", \"Einstein\", -25);"
      ]
    }
  ],
  "metadata": {
    "kernelspec": {
      "display_name": ".NET (C#)",
      "language": "C#",
      "name": ".net-csharp"
    },
    "language_info": {
      "file_extension": ".cs",
      "mimetype": "text/x-csharp",
      "name": "C#",
      "pygments_lexer": "csharp",
      "version": "8.0"
    }
  },
  "nbformat": 4,
  "nbformat_minor": 4
}
